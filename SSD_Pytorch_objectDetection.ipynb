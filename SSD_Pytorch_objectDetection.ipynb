{
  "nbformat": 4,
  "nbformat_minor": 0,
  "metadata": {
    "colab": {
      "provenance": []
    },
    "kernelspec": {
      "name": "python3",
      "display_name": "Python 3"
    },
    "language_info": {
      "name": "python"
    },
    "widgets": {
      "application/vnd.jupyter.widget-state+json": {
        "b8a22ec7588c4b2497c32c7b72ce489e": {
          "model_module": "@jupyter-widgets/controls",
          "model_name": "HBoxModel",
          "model_module_version": "1.5.0",
          "state": {
            "_dom_classes": [],
            "_model_module": "@jupyter-widgets/controls",
            "_model_module_version": "1.5.0",
            "_model_name": "HBoxModel",
            "_view_count": null,
            "_view_module": "@jupyter-widgets/controls",
            "_view_module_version": "1.5.0",
            "_view_name": "HBoxView",
            "box_style": "",
            "children": [
              "IPY_MODEL_721f8b2e02c94f2c8408f1f5f2b091ae",
              "IPY_MODEL_ce08b529ebde42768f00f06d2e9192e3",
              "IPY_MODEL_d6a0d3550dd4451697096fa2c8ca051d"
            ],
            "layout": "IPY_MODEL_33051cee9f984c9cac792a7e003d0133"
          }
        },
        "721f8b2e02c94f2c8408f1f5f2b091ae": {
          "model_module": "@jupyter-widgets/controls",
          "model_name": "HTMLModel",
          "model_module_version": "1.5.0",
          "state": {
            "_dom_classes": [],
            "_model_module": "@jupyter-widgets/controls",
            "_model_module_version": "1.5.0",
            "_model_name": "HTMLModel",
            "_view_count": null,
            "_view_module": "@jupyter-widgets/controls",
            "_view_module_version": "1.5.0",
            "_view_name": "HTMLView",
            "description": "",
            "description_tooltip": null,
            "layout": "IPY_MODEL_89e4674440c54c7094b63c91280d4568",
            "placeholder": "​",
            "style": "IPY_MODEL_957845b2702e452dad6e8d707e955dae",
            "value": "100%"
          }
        },
        "ce08b529ebde42768f00f06d2e9192e3": {
          "model_module": "@jupyter-widgets/controls",
          "model_name": "FloatProgressModel",
          "model_module_version": "1.5.0",
          "state": {
            "_dom_classes": [],
            "_model_module": "@jupyter-widgets/controls",
            "_model_module_version": "1.5.0",
            "_model_name": "FloatProgressModel",
            "_view_count": null,
            "_view_module": "@jupyter-widgets/controls",
            "_view_module_version": "1.5.0",
            "_view_name": "ProgressView",
            "bar_style": "success",
            "description": "",
            "description_tooltip": null,
            "layout": "IPY_MODEL_70ddbb5b9df7429391b52e4a1a233d83",
            "max": 142594222,
            "min": 0,
            "orientation": "horizontal",
            "style": "IPY_MODEL_0561cfaec9db41c680afeef57916be00",
            "value": 142594222
          }
        },
        "d6a0d3550dd4451697096fa2c8ca051d": {
          "model_module": "@jupyter-widgets/controls",
          "model_name": "HTMLModel",
          "model_module_version": "1.5.0",
          "state": {
            "_dom_classes": [],
            "_model_module": "@jupyter-widgets/controls",
            "_model_module_version": "1.5.0",
            "_model_name": "HTMLModel",
            "_view_count": null,
            "_view_module": "@jupyter-widgets/controls",
            "_view_module_version": "1.5.0",
            "_view_name": "HTMLView",
            "description": "",
            "description_tooltip": null,
            "layout": "IPY_MODEL_8530ce7a3ea94060998adfded1cc955e",
            "placeholder": "​",
            "style": "IPY_MODEL_0b04bc47845d40bdb12b012554154307",
            "value": " 136M/136M [00:00&lt;00:00, 234MB/s]"
          }
        },
        "33051cee9f984c9cac792a7e003d0133": {
          "model_module": "@jupyter-widgets/base",
          "model_name": "LayoutModel",
          "model_module_version": "1.2.0",
          "state": {
            "_model_module": "@jupyter-widgets/base",
            "_model_module_version": "1.2.0",
            "_model_name": "LayoutModel",
            "_view_count": null,
            "_view_module": "@jupyter-widgets/base",
            "_view_module_version": "1.2.0",
            "_view_name": "LayoutView",
            "align_content": null,
            "align_items": null,
            "align_self": null,
            "border": null,
            "bottom": null,
            "display": null,
            "flex": null,
            "flex_flow": null,
            "grid_area": null,
            "grid_auto_columns": null,
            "grid_auto_flow": null,
            "grid_auto_rows": null,
            "grid_column": null,
            "grid_gap": null,
            "grid_row": null,
            "grid_template_areas": null,
            "grid_template_columns": null,
            "grid_template_rows": null,
            "height": null,
            "justify_content": null,
            "justify_items": null,
            "left": null,
            "margin": null,
            "max_height": null,
            "max_width": null,
            "min_height": null,
            "min_width": null,
            "object_fit": null,
            "object_position": null,
            "order": null,
            "overflow": null,
            "overflow_x": null,
            "overflow_y": null,
            "padding": null,
            "right": null,
            "top": null,
            "visibility": null,
            "width": null
          }
        },
        "89e4674440c54c7094b63c91280d4568": {
          "model_module": "@jupyter-widgets/base",
          "model_name": "LayoutModel",
          "model_module_version": "1.2.0",
          "state": {
            "_model_module": "@jupyter-widgets/base",
            "_model_module_version": "1.2.0",
            "_model_name": "LayoutModel",
            "_view_count": null,
            "_view_module": "@jupyter-widgets/base",
            "_view_module_version": "1.2.0",
            "_view_name": "LayoutView",
            "align_content": null,
            "align_items": null,
            "align_self": null,
            "border": null,
            "bottom": null,
            "display": null,
            "flex": null,
            "flex_flow": null,
            "grid_area": null,
            "grid_auto_columns": null,
            "grid_auto_flow": null,
            "grid_auto_rows": null,
            "grid_column": null,
            "grid_gap": null,
            "grid_row": null,
            "grid_template_areas": null,
            "grid_template_columns": null,
            "grid_template_rows": null,
            "height": null,
            "justify_content": null,
            "justify_items": null,
            "left": null,
            "margin": null,
            "max_height": null,
            "max_width": null,
            "min_height": null,
            "min_width": null,
            "object_fit": null,
            "object_position": null,
            "order": null,
            "overflow": null,
            "overflow_x": null,
            "overflow_y": null,
            "padding": null,
            "right": null,
            "top": null,
            "visibility": null,
            "width": null
          }
        },
        "957845b2702e452dad6e8d707e955dae": {
          "model_module": "@jupyter-widgets/controls",
          "model_name": "DescriptionStyleModel",
          "model_module_version": "1.5.0",
          "state": {
            "_model_module": "@jupyter-widgets/controls",
            "_model_module_version": "1.5.0",
            "_model_name": "DescriptionStyleModel",
            "_view_count": null,
            "_view_module": "@jupyter-widgets/base",
            "_view_module_version": "1.2.0",
            "_view_name": "StyleView",
            "description_width": ""
          }
        },
        "70ddbb5b9df7429391b52e4a1a233d83": {
          "model_module": "@jupyter-widgets/base",
          "model_name": "LayoutModel",
          "model_module_version": "1.2.0",
          "state": {
            "_model_module": "@jupyter-widgets/base",
            "_model_module_version": "1.2.0",
            "_model_name": "LayoutModel",
            "_view_count": null,
            "_view_module": "@jupyter-widgets/base",
            "_view_module_version": "1.2.0",
            "_view_name": "LayoutView",
            "align_content": null,
            "align_items": null,
            "align_self": null,
            "border": null,
            "bottom": null,
            "display": null,
            "flex": null,
            "flex_flow": null,
            "grid_area": null,
            "grid_auto_columns": null,
            "grid_auto_flow": null,
            "grid_auto_rows": null,
            "grid_column": null,
            "grid_gap": null,
            "grid_row": null,
            "grid_template_areas": null,
            "grid_template_columns": null,
            "grid_template_rows": null,
            "height": null,
            "justify_content": null,
            "justify_items": null,
            "left": null,
            "margin": null,
            "max_height": null,
            "max_width": null,
            "min_height": null,
            "min_width": null,
            "object_fit": null,
            "object_position": null,
            "order": null,
            "overflow": null,
            "overflow_x": null,
            "overflow_y": null,
            "padding": null,
            "right": null,
            "top": null,
            "visibility": null,
            "width": null
          }
        },
        "0561cfaec9db41c680afeef57916be00": {
          "model_module": "@jupyter-widgets/controls",
          "model_name": "ProgressStyleModel",
          "model_module_version": "1.5.0",
          "state": {
            "_model_module": "@jupyter-widgets/controls",
            "_model_module_version": "1.5.0",
            "_model_name": "ProgressStyleModel",
            "_view_count": null,
            "_view_module": "@jupyter-widgets/base",
            "_view_module_version": "1.2.0",
            "_view_name": "StyleView",
            "bar_color": null,
            "description_width": ""
          }
        },
        "8530ce7a3ea94060998adfded1cc955e": {
          "model_module": "@jupyter-widgets/base",
          "model_name": "LayoutModel",
          "model_module_version": "1.2.0",
          "state": {
            "_model_module": "@jupyter-widgets/base",
            "_model_module_version": "1.2.0",
            "_model_name": "LayoutModel",
            "_view_count": null,
            "_view_module": "@jupyter-widgets/base",
            "_view_module_version": "1.2.0",
            "_view_name": "LayoutView",
            "align_content": null,
            "align_items": null,
            "align_self": null,
            "border": null,
            "bottom": null,
            "display": null,
            "flex": null,
            "flex_flow": null,
            "grid_area": null,
            "grid_auto_columns": null,
            "grid_auto_flow": null,
            "grid_auto_rows": null,
            "grid_column": null,
            "grid_gap": null,
            "grid_row": null,
            "grid_template_areas": null,
            "grid_template_columns": null,
            "grid_template_rows": null,
            "height": null,
            "justify_content": null,
            "justify_items": null,
            "left": null,
            "margin": null,
            "max_height": null,
            "max_width": null,
            "min_height": null,
            "min_width": null,
            "object_fit": null,
            "object_position": null,
            "order": null,
            "overflow": null,
            "overflow_x": null,
            "overflow_y": null,
            "padding": null,
            "right": null,
            "top": null,
            "visibility": null,
            "width": null
          }
        },
        "0b04bc47845d40bdb12b012554154307": {
          "model_module": "@jupyter-widgets/controls",
          "model_name": "DescriptionStyleModel",
          "model_module_version": "1.5.0",
          "state": {
            "_model_module": "@jupyter-widgets/controls",
            "_model_module_version": "1.5.0",
            "_model_name": "DescriptionStyleModel",
            "_view_count": null,
            "_view_module": "@jupyter-widgets/base",
            "_view_module_version": "1.2.0",
            "_view_name": "StyleView",
            "description_width": ""
          }
        }
      }
    }
  },
  "cells": [
    {
      "cell_type": "code",
      "execution_count": null,
      "metadata": {
        "id": "imrOO3_4uxXd"
      },
      "outputs": [],
      "source": [
        "import torch\n",
        "import torchvision\n",
        "from torchvision import transforms as T\n",
        "from PIL import Image\n",
        "import cv2 \n",
        "from google.colab.patches import cv2_imshow"
      ]
    },
    {
      "cell_type": "code",
      "source": [
        "model = torchvision.models.detection.ssd300_vgg16(pretrained = True)"
      ],
      "metadata": {
        "colab": {
          "base_uri": "https://localhost:8080/",
          "height": 156,
          "referenced_widgets": [
            "b8a22ec7588c4b2497c32c7b72ce489e",
            "721f8b2e02c94f2c8408f1f5f2b091ae",
            "ce08b529ebde42768f00f06d2e9192e3",
            "d6a0d3550dd4451697096fa2c8ca051d",
            "33051cee9f984c9cac792a7e003d0133",
            "89e4674440c54c7094b63c91280d4568",
            "957845b2702e452dad6e8d707e955dae",
            "70ddbb5b9df7429391b52e4a1a233d83",
            "0561cfaec9db41c680afeef57916be00",
            "8530ce7a3ea94060998adfded1cc955e",
            "0b04bc47845d40bdb12b012554154307"
          ]
        },
        "id": "Q0RJCMYiyFJ-",
        "outputId": "ad7f54b4-fda6-492f-c189-3d56bd70e815"
      },
      "execution_count": null,
      "outputs": [
        {
          "output_type": "stream",
          "name": "stderr",
          "text": [
            "/usr/local/lib/python3.8/dist-packages/torchvision/models/_utils.py:208: UserWarning: The parameter 'pretrained' is deprecated since 0.13 and may be removed in the future, please use 'weights' instead.\n",
            "  warnings.warn(\n",
            "/usr/local/lib/python3.8/dist-packages/torchvision/models/_utils.py:223: UserWarning: Arguments other than a weight enum or `None` for 'weights' are deprecated since 0.13 and may be removed in the future. The current behavior is equivalent to passing `weights=SSD300_VGG16_Weights.COCO_V1`. You can also use `weights=SSD300_VGG16_Weights.DEFAULT` to get the most up-to-date weights.\n",
            "  warnings.warn(msg)\n",
            "Downloading: \"https://download.pytorch.org/models/ssd300_vgg16_coco-b556d3b4.pth\" to /root/.cache/torch/hub/checkpoints/ssd300_vgg16_coco-b556d3b4.pth\n"
          ]
        },
        {
          "output_type": "display_data",
          "data": {
            "text/plain": [
              "  0%|          | 0.00/136M [00:00<?, ?B/s]"
            ],
            "application/vnd.jupyter.widget-view+json": {
              "version_major": 2,
              "version_minor": 0,
              "model_id": "b8a22ec7588c4b2497c32c7b72ce489e"
            }
          },
          "metadata": {}
        }
      ]
    },
    {
      "cell_type": "code",
      "source": [
        "model.eval()"
      ],
      "metadata": {
        "colab": {
          "base_uri": "https://localhost:8080/"
        },
        "id": "P_Mx8lSIzCJC",
        "outputId": "89db3443-65b5-4655-ea51-6b4d50cbc5fb"
      },
      "execution_count": null,
      "outputs": [
        {
          "output_type": "execute_result",
          "data": {
            "text/plain": [
              "SSD(\n",
              "  (backbone): SSDFeatureExtractorVGG(\n",
              "    (features): Sequential(\n",
              "      (0): Conv2d(3, 64, kernel_size=(3, 3), stride=(1, 1), padding=(1, 1))\n",
              "      (1): ReLU(inplace=True)\n",
              "      (2): Conv2d(64, 64, kernel_size=(3, 3), stride=(1, 1), padding=(1, 1))\n",
              "      (3): ReLU(inplace=True)\n",
              "      (4): MaxPool2d(kernel_size=2, stride=2, padding=0, dilation=1, ceil_mode=False)\n",
              "      (5): Conv2d(64, 128, kernel_size=(3, 3), stride=(1, 1), padding=(1, 1))\n",
              "      (6): ReLU(inplace=True)\n",
              "      (7): Conv2d(128, 128, kernel_size=(3, 3), stride=(1, 1), padding=(1, 1))\n",
              "      (8): ReLU(inplace=True)\n",
              "      (9): MaxPool2d(kernel_size=2, stride=2, padding=0, dilation=1, ceil_mode=False)\n",
              "      (10): Conv2d(128, 256, kernel_size=(3, 3), stride=(1, 1), padding=(1, 1))\n",
              "      (11): ReLU(inplace=True)\n",
              "      (12): Conv2d(256, 256, kernel_size=(3, 3), stride=(1, 1), padding=(1, 1))\n",
              "      (13): ReLU(inplace=True)\n",
              "      (14): Conv2d(256, 256, kernel_size=(3, 3), stride=(1, 1), padding=(1, 1))\n",
              "      (15): ReLU(inplace=True)\n",
              "      (16): MaxPool2d(kernel_size=2, stride=2, padding=0, dilation=1, ceil_mode=True)\n",
              "      (17): Conv2d(256, 512, kernel_size=(3, 3), stride=(1, 1), padding=(1, 1))\n",
              "      (18): ReLU(inplace=True)\n",
              "      (19): Conv2d(512, 512, kernel_size=(3, 3), stride=(1, 1), padding=(1, 1))\n",
              "      (20): ReLU(inplace=True)\n",
              "      (21): Conv2d(512, 512, kernel_size=(3, 3), stride=(1, 1), padding=(1, 1))\n",
              "      (22): ReLU(inplace=True)\n",
              "    )\n",
              "    (extra): ModuleList(\n",
              "      (0): Sequential(\n",
              "        (0): MaxPool2d(kernel_size=2, stride=2, padding=0, dilation=1, ceil_mode=False)\n",
              "        (1): Conv2d(512, 512, kernel_size=(3, 3), stride=(1, 1), padding=(1, 1))\n",
              "        (2): ReLU(inplace=True)\n",
              "        (3): Conv2d(512, 512, kernel_size=(3, 3), stride=(1, 1), padding=(1, 1))\n",
              "        (4): ReLU(inplace=True)\n",
              "        (5): Conv2d(512, 512, kernel_size=(3, 3), stride=(1, 1), padding=(1, 1))\n",
              "        (6): ReLU(inplace=True)\n",
              "        (7): Sequential(\n",
              "          (0): MaxPool2d(kernel_size=3, stride=1, padding=1, dilation=1, ceil_mode=False)\n",
              "          (1): Conv2d(512, 1024, kernel_size=(3, 3), stride=(1, 1), padding=(6, 6), dilation=(6, 6))\n",
              "          (2): ReLU(inplace=True)\n",
              "          (3): Conv2d(1024, 1024, kernel_size=(1, 1), stride=(1, 1))\n",
              "          (4): ReLU(inplace=True)\n",
              "        )\n",
              "      )\n",
              "      (1): Sequential(\n",
              "        (0): Conv2d(1024, 256, kernel_size=(1, 1), stride=(1, 1))\n",
              "        (1): ReLU(inplace=True)\n",
              "        (2): Conv2d(256, 512, kernel_size=(3, 3), stride=(2, 2), padding=(1, 1))\n",
              "        (3): ReLU(inplace=True)\n",
              "      )\n",
              "      (2): Sequential(\n",
              "        (0): Conv2d(512, 128, kernel_size=(1, 1), stride=(1, 1))\n",
              "        (1): ReLU(inplace=True)\n",
              "        (2): Conv2d(128, 256, kernel_size=(3, 3), stride=(2, 2), padding=(1, 1))\n",
              "        (3): ReLU(inplace=True)\n",
              "      )\n",
              "      (3): Sequential(\n",
              "        (0): Conv2d(256, 128, kernel_size=(1, 1), stride=(1, 1))\n",
              "        (1): ReLU(inplace=True)\n",
              "        (2): Conv2d(128, 256, kernel_size=(3, 3), stride=(1, 1))\n",
              "        (3): ReLU(inplace=True)\n",
              "      )\n",
              "      (4): Sequential(\n",
              "        (0): Conv2d(256, 128, kernel_size=(1, 1), stride=(1, 1))\n",
              "        (1): ReLU(inplace=True)\n",
              "        (2): Conv2d(128, 256, kernel_size=(3, 3), stride=(1, 1))\n",
              "        (3): ReLU(inplace=True)\n",
              "      )\n",
              "    )\n",
              "  )\n",
              "  (anchor_generator): DefaultBoxGenerator(aspect_ratios=[[2], [2, 3], [2, 3], [2, 3], [2], [2]], clip=True, scales=[0.07, 0.15, 0.33, 0.51, 0.69, 0.87, 1.05], steps=[8, 16, 32, 64, 100, 300])\n",
              "  (head): SSDHead(\n",
              "    (classification_head): SSDClassificationHead(\n",
              "      (module_list): ModuleList(\n",
              "        (0): Conv2d(512, 364, kernel_size=(3, 3), stride=(1, 1), padding=(1, 1))\n",
              "        (1): Conv2d(1024, 546, kernel_size=(3, 3), stride=(1, 1), padding=(1, 1))\n",
              "        (2): Conv2d(512, 546, kernel_size=(3, 3), stride=(1, 1), padding=(1, 1))\n",
              "        (3): Conv2d(256, 546, kernel_size=(3, 3), stride=(1, 1), padding=(1, 1))\n",
              "        (4): Conv2d(256, 364, kernel_size=(3, 3), stride=(1, 1), padding=(1, 1))\n",
              "        (5): Conv2d(256, 364, kernel_size=(3, 3), stride=(1, 1), padding=(1, 1))\n",
              "      )\n",
              "    )\n",
              "    (regression_head): SSDRegressionHead(\n",
              "      (module_list): ModuleList(\n",
              "        (0): Conv2d(512, 16, kernel_size=(3, 3), stride=(1, 1), padding=(1, 1))\n",
              "        (1): Conv2d(1024, 24, kernel_size=(3, 3), stride=(1, 1), padding=(1, 1))\n",
              "        (2): Conv2d(512, 24, kernel_size=(3, 3), stride=(1, 1), padding=(1, 1))\n",
              "        (3): Conv2d(256, 24, kernel_size=(3, 3), stride=(1, 1), padding=(1, 1))\n",
              "        (4): Conv2d(256, 16, kernel_size=(3, 3), stride=(1, 1), padding=(1, 1))\n",
              "        (5): Conv2d(256, 16, kernel_size=(3, 3), stride=(1, 1), padding=(1, 1))\n",
              "      )\n",
              "    )\n",
              "  )\n",
              "  (transform): GeneralizedRCNNTransform(\n",
              "      Normalize(mean=[0.48235, 0.45882, 0.40784], std=[0.00392156862745098, 0.00392156862745098, 0.00392156862745098])\n",
              "      Resize(min_size=(300,), max_size=300, mode='bilinear')\n",
              "  )\n",
              ")"
            ]
          },
          "metadata": {},
          "execution_count": 5
        }
      ]
    },
    {
      "cell_type": "code",
      "source": [
        "!wget 'http://images.cocodataset.org/val2017/000000037777.jpg'"
      ],
      "metadata": {
        "colab": {
          "base_uri": "https://localhost:8080/"
        },
        "id": "Yl3ngv8QzCFA",
        "outputId": "83e6638b-9214-4e19-9aad-67ca12a1a5a5"
      },
      "execution_count": null,
      "outputs": [
        {
          "output_type": "stream",
          "name": "stdout",
          "text": [
            "--2023-02-22 06:27:10--  http://images.cocodataset.org/val2017/000000037777.jpg\n",
            "Resolving images.cocodataset.org (images.cocodataset.org)... 52.217.9.156, 52.217.136.145, 54.231.135.105, ...\n",
            "Connecting to images.cocodataset.org (images.cocodataset.org)|52.217.9.156|:80... connected.\n",
            "HTTP request sent, awaiting response... 200 OK\n",
            "Length: 40833 (40K) [image/jpeg]\n",
            "Saving to: ‘000000037777.jpg’\n",
            "\n",
            "\r000000037777.jpg      0%[                    ]       0  --.-KB/s               \r000000037777.jpg    100%[===================>]  39.88K  --.-KB/s    in 0.05s   \n",
            "\n",
            "2023-02-22 06:27:11 (829 KB/s) - ‘000000037777.jpg’ saved [40833/40833]\n",
            "\n"
          ]
        }
      ]
    },
    {
      "cell_type": "code",
      "source": [
        "ig = Image.open('/content/000000037777.jpg')"
      ],
      "metadata": {
        "id": "nsqu9rpbzzuU"
      },
      "execution_count": null,
      "outputs": []
    },
    {
      "cell_type": "code",
      "source": [
        "transform = T.ToTensor()\n",
        "img = transform(ig)\n"
      ],
      "metadata": {
        "id": "2Qd6S5przB-K"
      },
      "execution_count": null,
      "outputs": []
    },
    {
      "cell_type": "code",
      "source": [
        "with  torch.no_grad():\n",
        "  pred = model([img])"
      ],
      "metadata": {
        "id": "NqqcP5HjzB6H"
      },
      "execution_count": null,
      "outputs": []
    },
    {
      "cell_type": "code",
      "source": [
        "pred[0].keys()"
      ],
      "metadata": {
        "colab": {
          "base_uri": "https://localhost:8080/"
        },
        "id": "Iab6j-bizBlu",
        "outputId": "5fd98e44-ad66-45e9-fd30-ead6fc0c34c1"
      },
      "execution_count": null,
      "outputs": [
        {
          "output_type": "execute_result",
          "data": {
            "text/plain": [
              "dict_keys(['boxes', 'scores', 'labels'])"
            ]
          },
          "metadata": {},
          "execution_count": 12
        }
      ]
    },
    {
      "cell_type": "code",
      "source": [
        "bbox, scores, labels = pred[0][\"boxes\"], pred[0][\"scores\"], pred[0][\"labels\"]"
      ],
      "metadata": {
        "id": "zHSgKrKZzBhr"
      },
      "execution_count": null,
      "outputs": []
    },
    {
      "cell_type": "code",
      "source": [
        "bbox"
      ],
      "metadata": {
        "colab": {
          "base_uri": "https://localhost:8080/"
        },
        "id": "wPImQAiCzBer",
        "outputId": "1355cfed-6805-471b-84c5-52058f244fa5"
      },
      "execution_count": null,
      "outputs": [
        {
          "output_type": "execute_result",
          "data": {
            "text/plain": [
              "tensor([[296.8343,  76.6260, 352.0000, 230.0000],\n",
              "        [137.9991, 127.7944, 197.8559, 192.3149],\n",
              "        [ 47.7719, 174.8144, 291.8065, 226.5563],\n",
              "        [201.0731, 182.3301, 256.9838, 220.3994],\n",
              "        [ 49.4556,  85.3956,  83.2604, 164.0248],\n",
              "        [188.0019, 128.9855, 229.9614, 177.4531],\n",
              "        [109.9328,  95.1930, 132.2697, 165.9795],\n",
              "        [ 96.1544, 103.4669, 113.3666, 178.7998],\n",
              "        [ 71.0474,  87.6160,  93.4132, 168.6719],\n",
              "        [ 25.6719, 207.0689,  96.7011, 229.5757],\n",
              "        [ 45.0322, 201.5023, 115.4670, 227.5960],\n",
              "        [125.2601, 133.3300, 161.7572, 192.3159],\n",
              "        [211.5031, 186.0792, 229.8496, 202.1066],\n",
              "        [  9.2317, 165.0963, 203.5732, 219.5667],\n",
              "        [ 34.0497,  89.2359,  63.7728, 159.7141],\n",
              "        [261.5962, 187.0260, 309.9577, 230.0000],\n",
              "        [296.6910,  86.3789, 330.2976, 167.8978],\n",
              "        [231.0479, 201.8326, 249.0675, 217.0306],\n",
              "        [224.5050, 177.7316, 299.8905, 228.7034],\n",
              "        [204.1440, 183.4682, 235.0509, 207.6637],\n",
              "        [126.2279,  98.7972, 163.2151, 155.5986],\n",
              "        [  2.4980, 112.6883,  46.0102, 174.4125],\n",
              "        [151.0197, 157.9415, 301.7973, 230.0000],\n",
              "        [193.6190, 200.6696, 270.8090, 225.8973],\n",
              "        [132.4916, 108.1060, 192.4619, 190.2735],\n",
              "        [ 49.4109, 190.3933, 117.0865, 218.8823],\n",
              "        [161.3435, 119.3920, 220.0317, 187.5472],\n",
              "        [294.1103, 179.6706, 322.6921, 230.0000],\n",
              "        [307.7616,  77.0669, 349.6785, 162.4994],\n",
              "        [204.8004, 190.0812, 220.9267, 206.6119],\n",
              "        [313.6234,  87.6238, 343.6099, 210.9533],\n",
              "        [272.0025,  77.9687, 346.6296, 139.2526],\n",
              "        [ 13.2060,  98.4780,  78.7771, 164.5498],\n",
              "        [ 67.8019,  81.3446, 119.7121, 186.3801],\n",
              "        [ 45.0106, 178.0547,  86.0816, 226.2482],\n",
              "        [252.2296,  77.2075, 333.0490, 200.8795],\n",
              "        [215.6174, 200.3179, 231.0281, 213.2024],\n",
              "        [  7.2854, 119.8721, 246.3233, 230.0000],\n",
              "        [169.1490, 136.1411, 220.9665, 169.2948],\n",
              "        [133.2292, 106.4110, 185.4064, 156.7548],\n",
              "        [138.9218, 132.6171, 175.3455, 142.7216],\n",
              "        [178.9590, 112.4934, 226.4492, 137.1869],\n",
              "        [271.9978, 198.0374, 331.6774, 228.6090],\n",
              "        [299.0971, 108.7172, 325.0704, 209.2658],\n",
              "        [122.9703, 123.4752, 171.2076, 162.4332],\n",
              "        [178.6024, 141.0134, 245.5516, 165.5100],\n",
              "        [ 78.8401, 194.3467, 124.3187, 227.0164],\n",
              "        [294.0585,  72.6083, 332.9124, 129.4639],\n",
              "        [  6.2960, 169.0650,  45.3316, 227.9355],\n",
              "        [269.3205,  88.0796, 305.6901, 142.4785],\n",
              "        [221.5385, 198.8094, 253.9187, 219.3409],\n",
              "        [ 20.6298, 181.5870,  72.6748, 223.4473],\n",
              "        [ 62.7069, 109.0963, 100.2744, 155.3922],\n",
              "        [277.4966, 110.2887, 289.1170, 128.3776],\n",
              "        [219.1863, 202.3133, 239.0622, 216.8513],\n",
              "        [212.2453, 192.9862, 246.2263, 217.1921],\n",
              "        [ 32.5168,  89.6568, 156.4462, 182.0976],\n",
              "        [138.7794,  97.4510, 246.8967, 187.5431],\n",
              "        [155.4849, 109.5414, 195.7450, 164.5204],\n",
              "        [204.9356, 133.0567, 253.9533, 174.7197],\n",
              "        [231.7290, 187.4309, 259.5693, 212.8526],\n",
              "        [  6.8137, 101.1999,  47.3825, 149.2812],\n",
              "        [110.9541, 119.8984, 132.4875, 188.5746],\n",
              "        [176.5244, 114.2509, 236.8594, 159.2894],\n",
              "        [  0.0000, 169.7637,  80.7941, 229.3794],\n",
              "        [111.0706,  67.9935, 135.1279, 132.0706],\n",
              "        [302.3557,  74.1724, 352.0000, 117.4902],\n",
              "        [  7.1677, 217.1426,  93.0241, 229.9937],\n",
              "        [108.9269, 139.8748, 150.5405, 189.3245],\n",
              "        [113.8422,  91.1382, 172.5334, 189.8112],\n",
              "        [144.4130, 137.7312, 187.1893, 147.4919],\n",
              "        [177.9420, 112.2894, 186.9763, 136.3126],\n",
              "        [137.2285,  90.4860, 180.3657, 130.1315],\n",
              "        [201.0731, 182.3301, 256.9838, 220.3994],\n",
              "        [201.2491, 176.1211, 289.0536, 226.3040],\n",
              "        [206.3663, 198.3876, 220.2267, 210.6445],\n",
              "        [155.2467, 114.3778, 207.2334, 139.0915],\n",
              "        [301.1212, 192.2732, 347.8075, 229.8696],\n",
              "        [  1.5738,  44.3542, 102.7680,  66.2436],\n",
              "        [ 78.5561, 101.3891, 136.4382, 167.6854],\n",
              "        [221.0806, 186.3566, 235.0942, 200.0953],\n",
              "        [231.0479, 201.8326, 249.0675, 217.0306],\n",
              "        [ 30.9541, 182.1664, 134.2999, 226.2755],\n",
              "        [ 63.6314, 164.7262, 104.6093, 212.9075],\n",
              "        [122.5636, 148.4638, 181.2533, 182.9338],\n",
              "        [278.7568, 113.7187, 349.0993, 183.4608],\n",
              "        [251.8222, 179.3874, 313.1884, 207.0127],\n",
              "        [277.2592, 104.7660, 303.8901, 187.6804],\n",
              "        [  0.0000,  48.7699,  49.5570, 186.7964],\n",
              "        [135.5993, 128.3976, 187.7468, 147.2067],\n",
              "        [216.1469, 184.5794, 228.7408, 194.4200],\n",
              "        [  2.6805,  34.5494, 103.5747,  55.6442],\n",
              "        [128.5638, 161.0746, 198.2633, 190.7070],\n",
              "        [107.3404,  84.4235, 170.2307, 133.6606],\n",
              "        [ 86.3611, 178.5545, 188.1350, 224.2542],\n",
              "        [254.4428, 159.6535, 288.4719, 213.5505],\n",
              "        [222.8640, 193.4217, 235.6529, 205.1507],\n",
              "        [ 31.8502,  76.6748,  92.0147, 149.2601],\n",
              "        [ 88.5631, 165.5614, 120.4572, 211.3273],\n",
              "        [237.6002, 187.9379, 257.6942, 203.4319],\n",
              "        [225.2503, 180.7203, 239.2333, 192.7711],\n",
              "        [215.7429, 108.1912, 250.9940, 154.2468],\n",
              "        [230.8361, 110.1974, 270.9260, 145.3962],\n",
              "        [131.1248, 130.3890, 195.6623, 152.8512],\n",
              "        [ 29.6475, 116.1561,  62.3368, 174.1180],\n",
              "        [221.4610, 183.2234, 275.9136, 223.0405],\n",
              "        [  0.0000, 168.4709,  22.8147, 230.0000],\n",
              "        [  0.4552, 173.2229,  96.4718, 227.1019],\n",
              "        [ 87.8313, 110.9272, 121.8573, 152.8766],\n",
              "        [ 91.4752,  84.2103, 119.1521, 134.4721],\n",
              "        [106.4547, 121.2206, 146.9273, 165.8612],\n",
              "        [240.2297, 128.4429, 280.6142, 134.7267],\n",
              "        [126.3655,  72.4421, 157.9125, 121.7734],\n",
              "        [  2.1618,  57.7007, 101.3323,  77.4947],\n",
              "        [198.9053, 190.3932, 230.8202, 215.0835],\n",
              "        [185.5978, 150.4296, 239.3685, 181.8783],\n",
              "        [230.5000, 121.0975, 269.2335, 163.0791],\n",
              "        [232.5016,  97.8706, 274.4917, 130.8766],\n",
              "        [277.1520, 100.0840, 347.3456, 129.2695],\n",
              "        [206.6086, 155.2356, 297.1864, 176.0937],\n",
              "        [239.8389, 186.4887, 275.1257, 211.4955],\n",
              "        [291.8203, 110.6252, 299.4726, 129.8736],\n",
              "        [179.3170, 129.6759, 241.6573, 149.8273],\n",
              "        [128.0939,  95.5940, 188.6521, 117.2079],\n",
              "        [236.7890, 166.0735, 294.1223, 198.4781],\n",
              "        [221.5385, 198.8094, 253.9187, 219.3409],\n",
              "        [216.4822, 168.6568, 301.9247, 189.0140],\n",
              "        [ 21.8801,  87.6733,  73.8622, 125.4465],\n",
              "        [153.3097, 153.6134, 222.6612, 178.5938],\n",
              "        [  3.9475, 153.8000,  90.5399, 206.3384],\n",
              "        [  8.7537, 193.1105,  92.3603, 214.0335],\n",
              "        [ 31.4652, 165.8857, 111.6292, 189.4361],\n",
              "        [112.1039, 106.2371, 179.8398, 193.0168],\n",
              "        [171.5998, 104.9207, 179.9460, 125.3584],\n",
              "        [171.4352,  67.6301, 352.0000, 204.5156],\n",
              "        [203.0838, 141.3379, 294.5842, 194.0252],\n",
              "        [233.0071, 191.4238, 250.6286, 206.2623],\n",
              "        [  0.0000,  65.7844, 107.1553, 169.8341],\n",
              "        [ 12.3993, 110.6568,  96.2160, 201.2033],\n",
              "        [200.8750, 193.8210, 211.7194, 205.1076],\n",
              "        [267.9530, 190.1367, 338.0157, 216.8281],\n",
              "        [249.9583,  88.2662, 313.7124, 124.6039],\n",
              "        [ 73.0431, 176.0369, 131.8975, 207.9638],\n",
              "        [335.7633,  67.0218, 352.0000, 139.8005],\n",
              "        [ 25.5592, 154.6005, 108.4036, 177.8647],\n",
              "        [132.2344, 139.3055, 197.8305, 165.9130],\n",
              "        [211.6614, 120.3717, 288.8457, 138.5918],\n",
              "        [336.5745,  51.9375, 351.3850,  77.8320],\n",
              "        [334.8706,  88.0884, 352.0000, 196.8946],\n",
              "        [ 58.0250,  87.0647, 101.9979, 124.1524],\n",
              "        [258.7058,  51.5756, 352.0000, 124.5915],\n",
              "        [207.7735, 184.4767, 219.6263, 193.1130],\n",
              "        [108.5148,  90.9145, 151.7742, 121.9043],\n",
              "        [238.2578, 201.5043, 255.9580, 217.8105],\n",
              "        [133.4236, 178.2812, 235.6790, 226.0980],\n",
              "        [219.1863, 202.3133, 239.0622, 216.8513],\n",
              "        [188.9211, 114.6115, 198.9309, 135.1790],\n",
              "        [204.4539, 115.1821, 254.4582, 139.1774],\n",
              "        [216.1019, 117.6039, 225.2760, 129.2167],\n",
              "        [ 72.5817, 120.9525,  99.6247, 175.4705],\n",
              "        [226.0160, 185.8266, 257.3235, 213.6283],\n",
              "        [ 48.5845, 213.5486, 108.0771, 230.0000],\n",
              "        [ 96.8677, 183.3675, 146.2507, 219.3130],\n",
              "        [  0.0000,  95.1166,  24.8043, 154.8072],\n",
              "        [127.2835,  82.4945, 194.4478, 104.1790],\n",
              "        [311.3495, 162.9039, 340.3167, 230.0000],\n",
              "        [104.2708,  41.2450, 170.1408, 169.2682],\n",
              "        [  1.1288,  75.4988,  67.8229, 138.0492],\n",
              "        [247.4980, 133.5423, 291.5112, 139.9698],\n",
              "        [222.4457, 137.3965, 273.5768, 174.4028],\n",
              "        [156.7839, 135.2209, 190.2892, 143.0984],\n",
              "        [193.4772, 100.9170, 290.4425, 178.2773],\n",
              "        [157.5242,  88.6935, 194.8424, 127.0624],\n",
              "        [143.2070, 133.5584, 162.5735, 141.5440],\n",
              "        [ 84.1306,  76.8327, 197.5022, 178.8982],\n",
              "        [ 10.0453,  64.1405,  42.7938, 132.9538],\n",
              "        [271.7120, 157.7948, 307.4439, 209.8089],\n",
              "        [100.1954,  67.8490, 164.7978, 117.7891],\n",
              "        [ 71.2345,  79.2571, 139.1561, 137.0448],\n",
              "        [124.1302, 114.7776, 178.7014, 142.2235],\n",
              "        [215.6174, 200.3179, 231.0281, 213.2024],\n",
              "        [  1.6858,  15.8462,  96.4087,  68.3887],\n",
              "        [220.5900, 128.3392, 238.5018, 134.6561],\n",
              "        [211.5031, 186.0792, 229.8496, 202.1066],\n",
              "        [140.9154,  73.9828, 179.4160, 117.4848],\n",
              "        [214.8058, 106.8775, 293.3823, 151.2673],\n",
              "        [172.5121, 104.3001, 179.3528, 116.0047],\n",
              "        [214.0558, 177.3416, 245.7622, 200.1740],\n",
              "        [166.5468,  34.6443, 273.6643,  53.5710],\n",
              "        [ 32.0392, 115.1237,  90.1848, 145.2637],\n",
              "        [203.7838, 184.0421, 234.9825, 211.1616],\n",
              "        [188.8219, 186.4707, 220.1356, 210.3191],\n",
              "        [ 51.4682, 169.7702, 146.4485, 217.4159],\n",
              "        [173.9075, 117.7077, 180.5511, 135.2689],\n",
              "        [216.2053, 156.6585, 300.8189, 214.1156],\n",
              "        [231.1121, 128.9239, 253.1682, 134.5882],\n",
              "        [212.2453, 192.9862, 246.2263, 217.1921],\n",
              "        [211.3912, 127.3141, 229.6161, 134.7049],\n",
              "        [188.7693, 201.8305, 261.3164, 225.8840],\n",
              "        [253.4626, 215.5859, 318.9010, 230.0000]])"
            ]
          },
          "metadata": {},
          "execution_count": 14
        }
      ]
    },
    {
      "cell_type": "code",
      "source": [
        "scores"
      ],
      "metadata": {
        "colab": {
          "base_uri": "https://localhost:8080/"
        },
        "id": "00bBiWxczBZZ",
        "outputId": "4dec05e6-5cbc-4f9a-eef3-99782d5d3d2e"
      },
      "execution_count": null,
      "outputs": [
        {
          "output_type": "execute_result",
          "data": {
            "text/plain": [
              "tensor([0.9242, 0.9001, 0.6306, 0.4384, 0.1584, 0.1540, 0.1436, 0.1385, 0.1320,\n",
              "        0.1292, 0.1189, 0.1133, 0.1101, 0.1097, 0.1097, 0.1089, 0.1048, 0.1044,\n",
              "        0.1028, 0.1014, 0.1014, 0.0975, 0.0966, 0.0947, 0.0938, 0.0926, 0.0916,\n",
              "        0.0911, 0.0906, 0.0899, 0.0893, 0.0885, 0.0882, 0.0876, 0.0860, 0.0846,\n",
              "        0.0844, 0.0840, 0.0840, 0.0819, 0.0817, 0.0809, 0.0808, 0.0797, 0.0784,\n",
              "        0.0772, 0.0764, 0.0756, 0.0752, 0.0751, 0.0746, 0.0743, 0.0743, 0.0739,\n",
              "        0.0737, 0.0734, 0.0732, 0.0730, 0.0730, 0.0729, 0.0729, 0.0726, 0.0722,\n",
              "        0.0718, 0.0695, 0.0692, 0.0679, 0.0676, 0.0663, 0.0662, 0.0659, 0.0644,\n",
              "        0.0639, 0.0630, 0.0627, 0.0621, 0.0618, 0.0617, 0.0613, 0.0611, 0.0609,\n",
              "        0.0609, 0.0607, 0.0594, 0.0593, 0.0586, 0.0585, 0.0580, 0.0579, 0.0577,\n",
              "        0.0576, 0.0575, 0.0574, 0.0573, 0.0564, 0.0563, 0.0563, 0.0562, 0.0560,\n",
              "        0.0560, 0.0559, 0.0557, 0.0557, 0.0555, 0.0554, 0.0552, 0.0551, 0.0541,\n",
              "        0.0538, 0.0534, 0.0525, 0.0522, 0.0519, 0.0515, 0.0514, 0.0511, 0.0510,\n",
              "        0.0510, 0.0508, 0.0500, 0.0499, 0.0498, 0.0494, 0.0492, 0.0490, 0.0488,\n",
              "        0.0487, 0.0486, 0.0486, 0.0485, 0.0485, 0.0473, 0.0473, 0.0473, 0.0469,\n",
              "        0.0469, 0.0466, 0.0465, 0.0460, 0.0459, 0.0459, 0.0457, 0.0457, 0.0456,\n",
              "        0.0455, 0.0451, 0.0451, 0.0449, 0.0448, 0.0448, 0.0447, 0.0445, 0.0444,\n",
              "        0.0443, 0.0441, 0.0439, 0.0439, 0.0439, 0.0435, 0.0433, 0.0432, 0.0427,\n",
              "        0.0426, 0.0426, 0.0425, 0.0425, 0.0423, 0.0422, 0.0421, 0.0421, 0.0421,\n",
              "        0.0419, 0.0419, 0.0417, 0.0415, 0.0414, 0.0412, 0.0410, 0.0410, 0.0410,\n",
              "        0.0407, 0.0407, 0.0406, 0.0406, 0.0404, 0.0404, 0.0403, 0.0402, 0.0401,\n",
              "        0.0401, 0.0398, 0.0398, 0.0398, 0.0397, 0.0394, 0.0390, 0.0389, 0.0389,\n",
              "        0.0388, 0.0386])"
            ]
          },
          "metadata": {},
          "execution_count": 15
        }
      ]
    },
    {
      "cell_type": "code",
      "source": [
        "labels"
      ],
      "metadata": {
        "colab": {
          "base_uri": "https://localhost:8080/"
        },
        "id": "CxXsMiAAzBVU",
        "outputId": "9582c8f4-c2da-43b7-9929-272e226a8434"
      },
      "execution_count": null,
      "outputs": [
        {
          "output_type": "execute_result",
          "data": {
            "text/plain": [
              "tensor([82, 79, 67, 51, 82, 79, 82, 82, 82, 62, 62, 79, 55, 67, 82, 62, 82, 55,\n",
              "        62, 55, 82, 82, 67, 51, 82, 62, 79, 62, 82, 55, 82, 82, 82, 82, 62, 82,\n",
              "        55, 67, 79, 79, 81, 79, 62, 82, 79, 79, 62, 82, 62, 82, 55, 62, 82, 44,\n",
              "        55, 55, 82, 79, 79, 79, 52, 82, 79, 79, 67, 82, 82, 62, 79, 82, 81, 44,\n",
              "        82, 55, 67, 55, 79, 62, 81, 82, 55, 53, 62, 62, 79, 82, 62, 82, 82, 81,\n",
              "        55, 81, 79, 82, 67, 62, 55, 82, 62, 52, 55, 79, 79, 79, 82, 51, 62, 62,\n",
              "        82, 82, 79, 81, 82, 81, 55, 79, 79, 79, 82, 67, 52, 44, 79, 78, 62, 53,\n",
              "        67, 82, 79, 67, 62, 67, 79, 44, 82, 67, 55, 82, 82, 55, 62, 82, 62, 82,\n",
              "        67, 79, 81, 44, 82, 82, 82, 55, 82, 55, 67, 53, 44, 79, 44, 82, 55, 62,\n",
              "        62, 82, 78, 62, 82, 82, 81, 79, 81, 79, 82, 81, 82, 82, 62, 82, 82, 79,\n",
              "        53, 81, 81, 53, 82, 79, 44, 55, 81, 82, 53, 55, 67, 44, 67, 81, 53, 81,\n",
              "        67, 62])"
            ]
          },
          "metadata": {},
          "execution_count": 16
        }
      ]
    },
    {
      "cell_type": "code",
      "source": [
        "torch.argwhere(scores > 0.5)"
      ],
      "metadata": {
        "colab": {
          "base_uri": "https://localhost:8080/"
        },
        "id": "s3Z5p-PE2eSY",
        "outputId": "5b46da46-289d-4339-cf10-025ef6739f8b"
      },
      "execution_count": null,
      "outputs": [
        {
          "output_type": "execute_result",
          "data": {
            "text/plain": [
              "tensor([[0],\n",
              "        [1],\n",
              "        [2]])"
            ]
          },
          "metadata": {},
          "execution_count": 18
        }
      ]
    },
    {
      "cell_type": "code",
      "source": [
        "num = torch.argwhere(scores > 0.5). shape[0]"
      ],
      "metadata": {
        "id": "DX5Cs4-R2vCT"
      },
      "execution_count": null,
      "outputs": []
    },
    {
      "cell_type": "code",
      "source": [
        "coco_names = [\"person\" , \"bicycle\" , \"car\" , \"motorcycle\" , \"airplane\" , \"bus\" , \"train\" , \"truck\" , \"boat\" , \"traffic light\" , \"fire hydrant\" , \"street sign\" , \"stop sign\" , \"parking meter\" , \"bench\" , \"bird\" , \"cat\" , \"dog\" , \"horse\" , \"sheep\" , \"cow\" , \"elephant\" , \"bear\" , \"zebra\" , \"giraffe\" , \"hat\" , \"backpack\" , \"umbrella\" , \"shoe\" , \"eye glasses\" , \"handbag\" , \"tie\" , \"suitcase\" , \n",
        "\"frisbee\" , \"skis\" , \"snowboard\" , \"sports ball\" , \"kite\" , \"baseball bat\" , \n",
        "\"baseball glove\" , \"skateboard\" , \"surfboard\" , \"tennis racket\" , \"bottle\" , \n",
        "\"plate\" , \"wine glass\" , \"cup\" , \"fork\" , \"knife\" , \"spoon\" , \"bowl\" , \n",
        "\"banana\" , \"apple\" , \"sandwich\" , \"orange\" , \"broccoli\" , \"carrot\" , \"hot dog\" ,\n",
        "\"pizza\" , \"donut\" , \"cake\" , \"chair\" , \"couch\" , \"potted plant\" , \"bed\" ,\n",
        "\"mirror\" , \"dining table\" , \"window\" , \"desk\" , \"toilet\" , \"door\" , \"tv\" ,\n",
        "\"laptop\" , \"mouse\" , \"remote\" , \"keyboard\" , \"cell phone\" , \"microwave\" ,\n",
        "\"oven\" , \"toaster\" , \"sink\" , \"refrigerator\" , \"blender\" , \"book\" ,\n",
        "\"clock\" , \"vase\" , \"scissors\" , \"teddy bear\" , \"hair drier\" , \"toothbrush\" , \"hair brush\"]"
      ],
      "metadata": {
        "id": "sy7H3xSz2eLo"
      },
      "execution_count": null,
      "outputs": []
    },
    {
      "cell_type": "code",
      "source": [
        "font = cv2.FONT_HERSHEY_SIMPLEX"
      ],
      "metadata": {
        "id": "rRy_xo887QRP"
      },
      "execution_count": null,
      "outputs": []
    },
    {
      "cell_type": "code",
      "source": [
        "igg = cv2.imread(\"/content/000000037777.jpg\")\n",
        "for i in  range(num):\n",
        "  x1, y1, x2, y2 = bbox[i].numpy().astype(\"int\")\n",
        "  igg = cv2.rectangle(igg, (x1, y1), (x2,y2),(0, 225, 0),1)\n",
        "  class_name = coco_names[labels.numpy()[i] -1]\n",
        "  igg = cv2.putText(igg, class_name, (x1 , y1 -10), font, 0.5, (225, 0 ,0), 1, cv2.LINE_AA)\n"
      ],
      "metadata": {
        "id": "FQoHX2Ze2eFU"
      },
      "execution_count": null,
      "outputs": []
    },
    {
      "cell_type": "code",
      "source": [
        "cv2_imshow(igg)"
      ],
      "metadata": {
        "id": "1RNkJlXU2eAg",
        "colab": {
          "base_uri": "https://localhost:8080/",
          "height": 247
        },
        "outputId": "5791e647-f39b-4121-f357-216610c18e47"
      },
      "execution_count": null,
      "outputs": [
        {
          "output_type": "display_data",
          "data": {
            "text/plain": [
              "<PIL.Image.Image image mode=RGB size=352x230 at 0x7F38616265E0>"
            ],
            "image/png": "[encoded data removed]"
          },
          "metadata": {}
        }
      ]
    }
  ]
}